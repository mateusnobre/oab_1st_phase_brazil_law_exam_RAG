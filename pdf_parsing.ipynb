{
 "cells": [
  {
   "cell_type": "code",
   "execution_count": 117,
   "metadata": {
    "collapsed": true,
    "id": "Z9k2JA5FqcfP",
    "jupyter": {
     "outputs_hidden": true
    },
    "tags": []
   },
   "outputs": [
    {
     "name": "stdout",
     "output_type": "stream",
     "text": [
      "Defaulting to user installation because normal site-packages is not writeable\n",
      "Requirement already satisfied: pymupdf in /home/mateusnobre/.local/lib/python3.10/site-packages (1.23.5)\n",
      "Requirement already satisfied: boto3 in /home/mateusnobre/.local/lib/python3.10/site-packages (1.26.127)\n",
      "Requirement already satisfied: PyMuPDFb==1.23.5 in /home/mateusnobre/.local/lib/python3.10/site-packages (from pymupdf) (1.23.5)\n",
      "Collecting s3transfer<0.7.0,>=0.6.0\n",
      "  Using cached s3transfer-0.6.2-py3-none-any.whl (79 kB)\n",
      "Requirement already satisfied: jmespath<2.0.0,>=0.7.1 in /home/mateusnobre/.local/lib/python3.10/site-packages (from boto3) (1.0.1)\n",
      "Collecting botocore<1.30.0,>=1.29.127\n",
      "  Downloading botocore-1.29.165-py3-none-any.whl (11.0 MB)\n",
      "\u001b[2K     \u001b[38;2;114;156;31m━━━━━━━━━━━━━━━━━━━━━━━━━━━━━━━━━━━━━━━\u001b[0m \u001b[32m11.0/11.0 MB\u001b[0m \u001b[31m867.8 kB/s\u001b[0m eta \u001b[36m0:00:00\u001b[0mm eta \u001b[36m0:00:01\u001b[0m[36m0:00:01\u001b[0m\n",
      "\u001b[?25hRequirement already satisfied: urllib3<1.27,>=1.25.4 in /home/mateusnobre/.local/lib/python3.10/site-packages (from botocore<1.30.0,>=1.29.127->boto3) (1.26.16)\n",
      "Requirement already satisfied: python-dateutil<3.0.0,>=2.1 in /home/mateusnobre/.local/lib/python3.10/site-packages (from botocore<1.30.0,>=1.29.127->boto3) (2.8.2)\n",
      "Requirement already satisfied: six>=1.5 in /usr/lib/python3/dist-packages (from python-dateutil<3.0.0,>=2.1->botocore<1.30.0,>=1.29.127->boto3) (1.16.0)\n",
      "Installing collected packages: botocore, s3transfer\n",
      "  Attempting uninstall: botocore\n",
      "    Found existing installation: botocore 1.31.65\n",
      "    Uninstalling botocore-1.31.65:\n",
      "      Successfully uninstalled botocore-1.31.65\n",
      "  Attempting uninstall: s3transfer\n",
      "    Found existing installation: s3transfer 0.7.0\n",
      "    Uninstalling s3transfer-0.7.0:\n",
      "      Successfully uninstalled s3transfer-0.7.0\n",
      "\u001b[31mERROR: pip's dependency resolver does not currently take into account all the packages that are installed. This behaviour is the source of the following dependency conflicts.\n",
      "awscli 1.29.65 requires botocore==1.31.65, but you have botocore 1.29.165 which is incompatible.\n",
      "awscli 1.29.65 requires s3transfer<0.8.0,>=0.7.0, but you have s3transfer 0.6.2 which is incompatible.\u001b[0m\u001b[31m\n",
      "\u001b[0mSuccessfully installed botocore-1.29.165 s3transfer-0.6.2\n",
      "Note: you may need to restart the kernel to use updated packages.\n"
     ]
    }
   ],
   "source": [
    "%pip install pymupdf"
   ]
  },
  {
   "cell_type": "markdown",
   "metadata": {
    "tags": []
   },
   "source": [
    "# Processing OAB"
   ]
  },
  {
   "cell_type": "markdown",
   "metadata": {
    "jp-MarkdownHeadingCollapsed": true,
    "tags": []
   },
   "source": [
    "## Answers"
   ]
  },
  {
   "cell_type": "code",
   "execution_count": 3,
   "metadata": {
    "tags": []
   },
   "outputs": [
    {
     "name": "stdout",
     "output_type": "stream",
     "text": [
      "1A FASE OAB/XXXV EXAME UNIFICADO - GABARITOS.pdf\n",
      "{1: 'C', 2: 'D', 3: 'B', 4: 'D', 5: 'C', 6: 'C', 7: 'B', 8: 'A', 9: 'B', 10: 'B', 11: 'B', 12: 'B', 13: 'B', 14: 'D', 15: 'C', 16: 'A', 17: 'B', 18: 'C', 19: 'B', 20: 'B', 21: 'C', 22: 'C', 23: 'B', 24: 'C', 25: 'C', 26: 'A', 27: 'B', 28: 'A', 29: 'A', 30: 'C', 31: 'A', 32: 'B', 33: 'B', 34: 'D', 35: 'D', 36: 'C', 37: 'D', 38: 'D', 39: 'D', 40: 'B', 41: 'C', 42: 'C', 43: 'A', 44: 'D', 45: 'B', 46: 'C', 47: 'D', 48: 'D', 49: 'A', 50: '*', 51: 'A', 52: 'B', 53: 'C', 54: 'C', 55: 'D', 56: 'A', 57: 'C', 58: 'C', 59: '*', 60: 'D', 61: 'A', 62: 'A', 63: 'C', 64: 'C', 65: 'B', 66: 'D', 67: 'D', 68: 'B', 69: 'D', 70: 'C', 71: 'C', 72: 'B', 73: 'B', 74: 'B', 75: 'A', 76: 'A', 77: 'A', 78: 'A', 79: 'A', 80: 'C'}\n",
      "1A FASE OAB/XXXVI EXAME UNIFICADO - GABARITOS.pdf\n",
      "{1: 'B', 2: 'A', 3: 'D', 4: 'D', 5: 'B', 6: 'C', 7: 'D', 8: 'D', 9: 'A', 10: 'B', 11: 'C', 12: 'B', 13: 'D', 14: 'B', 15: 'C', 16: 'A', 17: 'A', 18: 'A', 19: 'D', 20: 'B', 21: 'D', 22: 'C', 23: 'C', 24: 'C', 25: 'B', 26: 'A', 27: 'D', 28: 'A', 29: 'D', 30: 'B', 31: 'C', 32: 'D', 33: 'B', 34: 'A', 35: 'D', 36: 'C', 37: 'B', 38: 'B', 39: 'B', 40: 'B', 41: 'D', 42: 'B', 43: 'B', 44: 'D', 45: 'C', 46: 'A', 47: 'D', 48: 'B', 49: 'A', 50: '*', 51: '*', 52: 'D', 53: 'C', 54: 'A', 55: 'C', 56: 'A', 57: 'C', 58: 'B', 59: 'C', 60: 'D', 61: 'C', 62: 'A', 63: 'C', 64: 'D', 65: 'A', 66: 'B', 67: 'D', 68: 'A', 69: 'D', 70: 'B', 71: 'C', 72: 'C', 73: 'A', 74: 'A', 75: 'A', 76: 'C', 77: 'A', 78: 'B', 79: 'C', 80: 'A'}\n",
      "1A FASE OAB/XXXVII EXAME UNIFICADO – GABARITOS.pdf\n",
      "{1: 'D', 2: 'D', 3: 'B', 4: 'D', 5: 'B', 6: 'C', 7: '*', 8: 'A', 9: 'D', 10: 'C', 11: 'D', 12: 'B', 13: 'A', 14: 'B', 15: 'C', 16: 'B', 17: 'B', 18: 'D', 19: 'D', 20: 'A', 21: 'C', 22: 'A', 23: 'B', 24: 'C', 25: 'C', 26: 'B', 27: 'D', 28: 'A', 29: 'D', 30: 'A', 31: 'D', 32: 'D', 33: 'D', 34: 'A', 35: 'C', 36: 'B', 37: 'B', 38: 'C', 39: 'A', 40: 'C', 41: 'B', 42: 'B', 43: 'D', 44: 'D', 45: 'C', 46: 'A', 47: 'C', 48: 'D', 49: 'A', 50: 'C', 51: 'C', 52: 'C', 53: 'B', 54: 'C', 55: 'D', 56: 'B', 57: 'B', 58: 'A', 59: 'C', 60: 'D', 61: 'A', 62: 'B', 63: 'D', 64: 'D', 65: 'B', 66: 'C', 67: 'A', 68: 'C', 69: '*', 70: 'A', 71: 'A', 72: 'A', 73: 'D', 74: 'B', 75: 'B', 76: 'A', 77: 'B', 78: 'A', 79: 'D', 80: 'B'}\n",
      "1A FASE OAB/XXXVIII EXAME UNIFICADO - GABARITOS.pdf\n",
      "{1: 'C', 2: 'D', 3: 'B', 4: 'A', 5: 'C', 6: 'B', 7: 'D', 8: 'B', 9: 'A', 10: 'A', 11: 'D', 12: 'C', 13: 'A', 14: 'C', 15: 'C', 16: 'A', 17: 'C', 18: 'C', 19: 'D', 20: 'B', 21: 'B', 22: 'A', 23: 'D', 24: 'B', 25: 'C', 26: 'D', 27: 'A', 28: 'D', 29: 'C', 30: 'D', 31: 'A', 32: 'D', 33: 'A', 34: 'D', 35: 'D', 36: 'C', 37: 'D', 38: 'A', 39: 'C', 40: 'D', 41: 'B', 42: 'A', 43: 'C', 44: 'C', 45: '*', 46: 'A', 47: 'A', 48: 'D', 49: 'B', 50: 'A', 51: 'B', 52: 'C', 53: 'D', 54: 'D', 55: 'A', 56: 'B', 57: 'A', 58: 'B', 59: 'B', 60: '*', 61: 'B', 62: '*', 63: 'C', 64: 'C', 65: 'A', 66: 'B', 67: 'C', 68: 'C', 69: 'A', 70: 'B', 71: 'D', 72: 'D', 73: 'B', 74: 'B', 75: 'B', 76: 'C', 77: 'A', 78: 'C', 79: 'A', 80: 'D'}\n"
     ]
    }
   ],
   "source": [
    "import pandas as pd\n",
    "import sys, pathlib, fitz\n",
    "from fitz import Rect\n",
    "import json\n",
    "\n",
    "ANSWERS_PDF_PATHS = [\n",
    "    \"1A FASE OAB/XXXVII EXAME UNIFICADO – GABARITOS.pdf\",\n",
    "]\n",
    "def get_answers_dict(pdf_path):\n",
    "    doc = fitz.open(pdf_path)\n",
    "    page = doc[0]  # first page\n",
    "    words = page.get_text(\"words\", sort=True)  # extract sorted words\n",
    "    start_idx = -1\n",
    "    end_idx = -1\n",
    "    for idx, w in enumerate(words):\n",
    "        if \"BRANCO\" in w[4]:\n",
    "            start_idx = idx\n",
    "        elif \"XXXVII\" in w[4] and start_idx != -1 and end_idx == -1:\n",
    "            end_idx = idx\n",
    "            break\n",
    "\n",
    "    answers_dict = {}\n",
    "    question_idx = 1\n",
    "    for word in (words[start_idx+1:end_idx]):\n",
    "        if not word[4].isdigit():\n",
    "            answers_dict[question_idx] = word[4]\n",
    "            question_idx += 1\n",
    "            \n",
    "    parsed_answers_dict = {\n",
    "        question_number : correct_ans \n",
    "        for question_number, correct_ans in answers_dict.items() \n",
    "        if question_number <= 80\n",
    "        }\n",
    "    json_object = json.dumps(parsed_answers_dict, indent=4)\n",
    "\n",
    "    # Writing to sample.json\n",
    "    with open(f\"{pdf_path.replace('.pdf','')}.json\", \"w\") as outfile:\n",
    "        outfile.write(json_object)\n",
    "    return parsed_answers_dict\n",
    "for path in ANSWERS_PDF_PATHS:\n",
    "    print(path)\n",
    "    answers_dict = get_answers_dict(path)\n",
    "    print(answers_dict)\n",
    "\n",
    "    "
   ]
  },
  {
   "cell_type": "markdown",
   "metadata": {
    "tags": []
   },
   "source": [
    "## Questions"
   ]
  },
  {
   "cell_type": "markdown",
   "metadata": {
    "tags": []
   },
   "source": [
    "## Vade Mecum"
   ]
  },
  {
   "cell_type": "code",
   "execution_count": 4,
   "metadata": {
    "tags": []
   },
   "outputs": [],
   "source": [
    "\n",
    "vm_chapter_metadata = pd.read_csv(\"vade_mecum_chapter_metadata.csv\")\n",
    "vm_chapter_metadata.loc[((vm_chapter_metadata[\"start_page\"] <= 10) & (vm_chapter_metadata[\"end_page\"] >= 10)) ,\"chapter_title\"].values[0]\n",
    "fname = \"Vade_mecum_2023.pdf\"  # get document filename\n",
    "\n",
    "text_dict = {}\n",
    "with fitz.open(fname) as doc:  # open document\n",
    "    for idx, page in enumerate(doc):\n",
    "        if idx+1 >= 17 and idx+1 <=885:\n",
    "            chapter_title = vm_chapter_metadata.loc[((vm_chapter_metadata[\"start_page\"] <= idx) & (vm_chapter_metadata[\"end_page\"] >= idx)) ,\"chapter_title\"].values[0]\n",
    "            text_dict[idx+1] = {\"text\" : \"\"}\n",
    "            page_1st_third = page.get_text(clip=Rect([0, 0, 190, 1000]))\n",
    "            page_2nd_third = page.get_text(clip=Rect([190, 0, 320, 1000]))\n",
    "            page_3rd_third = page.get_text(clip=Rect([320, 0, 410, 1000]))\n",
    "            text_dict[idx+1][\"text\"] = (\n",
    "                page_1st_third+\n",
    "                page_2nd_third+\n",
    "                page_3rd_third\n",
    "            )\n",
    "            text_dict[idx+1][\"chapter_title\"] = chapter_title\n",
    "with open(f'{fname}.json', 'w') as f:\n",
    "    json.dump(text_dict, f)"
   ]
  },
  {
   "cell_type": "code",
   "execution_count": null,
   "metadata": {},
   "outputs": [],
   "source": []
  }
 ],
 "metadata": {
  "colab": {
   "provenance": []
  },
  "kernelspec": {
   "display_name": "Python 3 (ipykernel)",
   "language": "python",
   "name": "python3"
  },
  "language_info": {
   "codemirror_mode": {
    "name": "ipython",
    "version": 3
   },
   "file_extension": ".py",
   "mimetype": "text/x-python",
   "name": "python",
   "nbconvert_exporter": "python",
   "pygments_lexer": "ipython3",
   "version": "3.10.12"
  },
  "widgets": {
   "application/vnd.jupyter.widget-state+json": {
    "03a6b0ae496d4fdea0e06cbfa8bde291": {
     "model_module": "@jupyter-widgets/controls",
     "model_module_version": "1.5.0",
     "model_name": "HTMLModel",
     "state": {
      "_dom_classes": [],
      "_model_module": "@jupyter-widgets/controls",
      "_model_module_version": "1.5.0",
      "_model_name": "HTMLModel",
      "_view_count": null,
      "_view_module": "@jupyter-widgets/controls",
      "_view_module_version": "1.5.0",
      "_view_name": "HTMLView",
      "description": "",
      "description_tooltip": null,
      "layout": "IPY_MODEL_7fd56b9ab4354cd892ee0a9b983b0c1f",
      "placeholder": "​",
      "style": "IPY_MODEL_14256aeaffd84d1d8565a9bb1098e505",
      "value": " 166M/166M [00:01&lt;00:00, 192MB/s]"
     }
    },
    "075afc24cb2f4b3eb90c7dbea196edc3": {
     "model_module": "@jupyter-widgets/controls",
     "model_module_version": "1.5.0",
     "model_name": "HTMLModel",
     "state": {
      "_dom_classes": [],
      "_model_module": "@jupyter-widgets/controls",
      "_model_module_version": "1.5.0",
      "_model_name": "HTMLModel",
      "_view_count": null,
      "_view_module": "@jupyter-widgets/controls",
      "_view_module_version": "1.5.0",
      "_view_name": "HTMLView",
      "description": "",
      "description_tooltip": null,
      "layout": "IPY_MODEL_19d9441875a4408baa1ca2dcd270ac76",
      "placeholder": "​",
      "style": "IPY_MODEL_1eb63100354e458b86a25462c8c20f0e",
      "value": "Downloading model.onnx: 100%"
     }
    },
    "14256aeaffd84d1d8565a9bb1098e505": {
     "model_module": "@jupyter-widgets/controls",
     "model_module_version": "1.5.0",
     "model_name": "DescriptionStyleModel",
     "state": {
      "_model_module": "@jupyter-widgets/controls",
      "_model_module_version": "1.5.0",
      "_model_name": "DescriptionStyleModel",
      "_view_count": null,
      "_view_module": "@jupyter-widgets/base",
      "_view_module_version": "1.2.0",
      "_view_name": "StyleView",
      "description_width": ""
     }
    },
    "19d9441875a4408baa1ca2dcd270ac76": {
     "model_module": "@jupyter-widgets/base",
     "model_module_version": "1.2.0",
     "model_name": "LayoutModel",
     "state": {
      "_model_module": "@jupyter-widgets/base",
      "_model_module_version": "1.2.0",
      "_model_name": "LayoutModel",
      "_view_count": null,
      "_view_module": "@jupyter-widgets/base",
      "_view_module_version": "1.2.0",
      "_view_name": "LayoutView",
      "align_content": null,
      "align_items": null,
      "align_self": null,
      "border": null,
      "bottom": null,
      "display": null,
      "flex": null,
      "flex_flow": null,
      "grid_area": null,
      "grid_auto_columns": null,
      "grid_auto_flow": null,
      "grid_auto_rows": null,
      "grid_column": null,
      "grid_gap": null,
      "grid_row": null,
      "grid_template_areas": null,
      "grid_template_columns": null,
      "grid_template_rows": null,
      "height": null,
      "justify_content": null,
      "justify_items": null,
      "left": null,
      "margin": null,
      "max_height": null,
      "max_width": null,
      "min_height": null,
      "min_width": null,
      "object_fit": null,
      "object_position": null,
      "order": null,
      "overflow": null,
      "overflow_x": null,
      "overflow_y": null,
      "padding": null,
      "right": null,
      "top": null,
      "visibility": null,
      "width": null
     }
    },
    "1eb63100354e458b86a25462c8c20f0e": {
     "model_module": "@jupyter-widgets/controls",
     "model_module_version": "1.5.0",
     "model_name": "DescriptionStyleModel",
     "state": {
      "_model_module": "@jupyter-widgets/controls",
      "_model_module_version": "1.5.0",
      "_model_name": "DescriptionStyleModel",
      "_view_count": null,
      "_view_module": "@jupyter-widgets/base",
      "_view_module_version": "1.2.0",
      "_view_name": "StyleView",
      "description_width": ""
     }
    },
    "2d7f281c4b4a48ebbfee9eed14bc1914": {
     "model_module": "@jupyter-widgets/base",
     "model_module_version": "1.2.0",
     "model_name": "LayoutModel",
     "state": {
      "_model_module": "@jupyter-widgets/base",
      "_model_module_version": "1.2.0",
      "_model_name": "LayoutModel",
      "_view_count": null,
      "_view_module": "@jupyter-widgets/base",
      "_view_module_version": "1.2.0",
      "_view_name": "LayoutView",
      "align_content": null,
      "align_items": null,
      "align_self": null,
      "border": null,
      "bottom": null,
      "display": null,
      "flex": null,
      "flex_flow": null,
      "grid_area": null,
      "grid_auto_columns": null,
      "grid_auto_flow": null,
      "grid_auto_rows": null,
      "grid_column": null,
      "grid_gap": null,
      "grid_row": null,
      "grid_template_areas": null,
      "grid_template_columns": null,
      "grid_template_rows": null,
      "height": null,
      "justify_content": null,
      "justify_items": null,
      "left": null,
      "margin": null,
      "max_height": null,
      "max_width": null,
      "min_height": null,
      "min_width": null,
      "object_fit": null,
      "object_position": null,
      "order": null,
      "overflow": null,
      "overflow_x": null,
      "overflow_y": null,
      "padding": null,
      "right": null,
      "top": null,
      "visibility": null,
      "width": null
     }
    },
    "6119535a8f464d8ea1db734ba5dcc71a": {
     "model_module": "@jupyter-widgets/controls",
     "model_module_version": "1.5.0",
     "model_name": "FloatProgressModel",
     "state": {
      "_dom_classes": [],
      "_model_module": "@jupyter-widgets/controls",
      "_model_module_version": "1.5.0",
      "_model_name": "FloatProgressModel",
      "_view_count": null,
      "_view_module": "@jupyter-widgets/controls",
      "_view_module_version": "1.5.0",
      "_view_name": "ProgressView",
      "bar_style": "success",
      "description": "",
      "description_tooltip": null,
      "layout": "IPY_MODEL_b9910de3e50e4f7ea55c1b0a100f35b8",
      "max": 165696875,
      "min": 0,
      "orientation": "horizontal",
      "style": "IPY_MODEL_81b199781fe34419987d7b4272d51f47",
      "value": 165696875
     }
    },
    "7fd56b9ab4354cd892ee0a9b983b0c1f": {
     "model_module": "@jupyter-widgets/base",
     "model_module_version": "1.2.0",
     "model_name": "LayoutModel",
     "state": {
      "_model_module": "@jupyter-widgets/base",
      "_model_module_version": "1.2.0",
      "_model_name": "LayoutModel",
      "_view_count": null,
      "_view_module": "@jupyter-widgets/base",
      "_view_module_version": "1.2.0",
      "_view_name": "LayoutView",
      "align_content": null,
      "align_items": null,
      "align_self": null,
      "border": null,
      "bottom": null,
      "display": null,
      "flex": null,
      "flex_flow": null,
      "grid_area": null,
      "grid_auto_columns": null,
      "grid_auto_flow": null,
      "grid_auto_rows": null,
      "grid_column": null,
      "grid_gap": null,
      "grid_row": null,
      "grid_template_areas": null,
      "grid_template_columns": null,
      "grid_template_rows": null,
      "height": null,
      "justify_content": null,
      "justify_items": null,
      "left": null,
      "margin": null,
      "max_height": null,
      "max_width": null,
      "min_height": null,
      "min_width": null,
      "object_fit": null,
      "object_position": null,
      "order": null,
      "overflow": null,
      "overflow_x": null,
      "overflow_y": null,
      "padding": null,
      "right": null,
      "top": null,
      "visibility": null,
      "width": null
     }
    },
    "81b199781fe34419987d7b4272d51f47": {
     "model_module": "@jupyter-widgets/controls",
     "model_module_version": "1.5.0",
     "model_name": "ProgressStyleModel",
     "state": {
      "_model_module": "@jupyter-widgets/controls",
      "_model_module_version": "1.5.0",
      "_model_name": "ProgressStyleModel",
      "_view_count": null,
      "_view_module": "@jupyter-widgets/base",
      "_view_module_version": "1.2.0",
      "_view_name": "StyleView",
      "bar_color": null,
      "description_width": ""
     }
    },
    "b9910de3e50e4f7ea55c1b0a100f35b8": {
     "model_module": "@jupyter-widgets/base",
     "model_module_version": "1.2.0",
     "model_name": "LayoutModel",
     "state": {
      "_model_module": "@jupyter-widgets/base",
      "_model_module_version": "1.2.0",
      "_model_name": "LayoutModel",
      "_view_count": null,
      "_view_module": "@jupyter-widgets/base",
      "_view_module_version": "1.2.0",
      "_view_name": "LayoutView",
      "align_content": null,
      "align_items": null,
      "align_self": null,
      "border": null,
      "bottom": null,
      "display": null,
      "flex": null,
      "flex_flow": null,
      "grid_area": null,
      "grid_auto_columns": null,
      "grid_auto_flow": null,
      "grid_auto_rows": null,
      "grid_column": null,
      "grid_gap": null,
      "grid_row": null,
      "grid_template_areas": null,
      "grid_template_columns": null,
      "grid_template_rows": null,
      "height": null,
      "justify_content": null,
      "justify_items": null,
      "left": null,
      "margin": null,
      "max_height": null,
      "max_width": null,
      "min_height": null,
      "min_width": null,
      "object_fit": null,
      "object_position": null,
      "order": null,
      "overflow": null,
      "overflow_x": null,
      "overflow_y": null,
      "padding": null,
      "right": null,
      "top": null,
      "visibility": null,
      "width": null
     }
    },
    "c046b2087be446a7be3912d97a67aa52": {
     "model_module": "@jupyter-widgets/controls",
     "model_module_version": "1.5.0",
     "model_name": "HBoxModel",
     "state": {
      "_dom_classes": [],
      "_model_module": "@jupyter-widgets/controls",
      "_model_module_version": "1.5.0",
      "_model_name": "HBoxModel",
      "_view_count": null,
      "_view_module": "@jupyter-widgets/controls",
      "_view_module_version": "1.5.0",
      "_view_name": "HBoxView",
      "box_style": "",
      "children": [
       "IPY_MODEL_075afc24cb2f4b3eb90c7dbea196edc3",
       "IPY_MODEL_6119535a8f464d8ea1db734ba5dcc71a",
       "IPY_MODEL_03a6b0ae496d4fdea0e06cbfa8bde291"
      ],
      "layout": "IPY_MODEL_2d7f281c4b4a48ebbfee9eed14bc1914"
     }
    }
   }
  }
 },
 "nbformat": 4,
 "nbformat_minor": 4
}
